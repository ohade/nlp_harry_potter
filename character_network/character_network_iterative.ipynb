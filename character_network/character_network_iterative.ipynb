{
 "cells": [
  {
   "cell_type": "code",
   "execution_count": null,
   "metadata": {},
   "outputs": [],
   "source": [
    "import pandas as pd\n",
    "import numpy as np\n",
    "import networkx as nx\n",
    "import matplotlib.pyplot as plt\n",
    "from afinn import Afinn\n",
    "from nltk.tokenize import sent_tokenize\n",
    "from sklearn.feature_extraction.text import CountVectorizer\n",
    "from character_network_iterative import *\n",
    "\n",
    "novel_folder = '/Users/ohad.e/Projects/study/nlp_final/nlp_harry_potter/books'\n",
    "\n",
    "print(1)\n",
    "nlp_func = spacy.load('en_core_web_sm')\n",
    "print(2)\n",
    "novel_name = \"Harry Potter 1\"\n",
    "# novel_folder = Path(os.getcwd()) / 'novels'\n",
    "novel = read_text(novel_folder, \"Harry Potter 1 - Sorcerer's Stone.txt\")\n",
    "print(3)\n",
    "sentence_list = sent_tokenize(novel)\n",
    "print(4)\n",
    "align_rate = calculate_align_rate(sentence_list)\n",
    "print(5)\n",
    "preliminary_name_list = iterative_NER(nlp_func, sentence_list)\n",
    "print(6)\n",
    "name_frequency, name_list = top_names(preliminary_name_list, novel, 25)\n",
    "print(7)\n",
    "cooccurrence_matrix, sentiment_matrix = calculate_matrix(name_list, sentence_list, align_rate)\n",
    "print(8)\n",
    "# plot co-occurrence and sentiment graph for Harry Potter\n",
    "plot_graph(name_list, name_frequency, cooccurrence_matrix, novel_name + ' co-occurrence graph', 'co-occurrence')\n",
    "plot_graph(name_list, name_frequency, sentiment_matrix, novel_name + ' sentiment graph', 'sentiment')"
   ]
  },
  {
   "cell_type": "code",
   "execution_count": null,
   "metadata": {},
   "outputs": [],
   "source": [
    "novel_list = [\"Harry Potter 1 - Sorcerer's Stone.txt\", \"Harry Potter 2 - Chamber of Secrets.txt\", \"Harry Potter 3 - The Prisoner Of Azkaban.txt\", \"Harry Potter 4 - The Goblet Of Fire.txt\", \"Harry Potter 5 - Order of the Phoenix.txt\", \"Harry Potter 6 - The Half Blood Prince.txt\", \"Harry Potter 7 - Deathly Hollows.txt\"]\n",
    "\n",
    "for name in novel_list:\n",
    "    print(1, name)\n",
    "    novel = read_text(novel_folder, name)\n",
    "    print(2)    \n",
    "    sentence_list = sent_tokenize(novel)\n",
    "    print(3)    \n",
    "    cooccurrence_matrix, sentiment_matrix = calculate_matrix(name_list, sentence_list, align_rate)\n",
    "    print(4)    \n",
    "    plot_graph(name_list, name_frequency, cooccurrence_matrix, name + ' co-occurrence graph', 'co-occurrence')\n",
    "    plot_graph(name_list, name_frequency, sentiment_matrix, name + ' sentiment graph', 'sentiment')"
   ]
  },
  {
   "cell_type": "code",
   "execution_count": null,
   "metadata": {},
   "outputs": [],
   "source": []
  }
 ],
 "metadata": {
  "kernelspec": {
   "display_name": "Python 3",
   "language": "python",
   "name": "python3"
  },
  "language_info": {
   "codemirror_mode": {
    "name": "ipython",
    "version": 3
   },
   "file_extension": ".py",
   "mimetype": "text/x-python",
   "name": "python",
   "nbconvert_exporter": "python",
   "pygments_lexer": "ipython3",
   "version": "3.8.5"
  }
 },
 "nbformat": 4,
 "nbformat_minor": 4
}
